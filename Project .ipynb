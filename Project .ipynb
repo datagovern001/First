{
 "cells": [
  {
   "cell_type": "markdown",
   "id": "87a42bda",
   "metadata": {},
   "source": [
    "Title : Final Assignment week 5"
   ]
  },
  {
   "cell_type": "markdown",
   "id": "0e7b0a69",
   "metadata": {},
   "source": [
    "Introduction"
   ]
  },
  {
   "cell_type": "markdown",
   "id": "38cb65a9",
   "metadata": {},
   "source": [
    "List Of Data Science Languages"
   ]
  },
  {
   "cell_type": "markdown",
   "id": "5dea62ab",
   "metadata": {},
   "source": [
    "     1. C \n",
    "     2. C++\n",
    "     3. Python\n",
    "     4. R\n",
    "     5. Julia\n",
    "     6. Java "
   ]
  },
  {
   "cell_type": "markdown",
   "id": "049c883b",
   "metadata": {},
   "source": [
    "List of Data Science Tools "
   ]
  },
  {
   "cell_type": "markdown",
   "id": "341e42b2",
   "metadata": {},
   "source": [
    "  1. Data Management : SQL, Postgre SQL\n",
    "  2. ETL : Spark SQL, Apache Kafka\n",
    "  3. Visualisation : Power BI, Tableau\n",
    "  4. Model Buiding : Tensorflow\n",
    "  5. Monitoring : Fidler"
   ]
  },
  {
   "cell_type": "markdown",
   "id": "c41f9762",
   "metadata": {},
   "source": [
    "Introducing Airthmatic Expressions Examples "
   ]
  },
  {
   "cell_type": "code",
   "execution_count": 2,
   "id": "621b97c2",
   "metadata": {},
   "outputs": [
    {
     "data": {
      "text/plain": [
       "4"
      ]
     },
     "execution_count": 2,
     "metadata": {},
     "output_type": "execute_result"
    }
   ],
   "source": [
    "# Multiplication \n",
    "2*2"
   ]
  },
  {
   "cell_type": "code",
   "execution_count": 3,
   "id": "39f361e7",
   "metadata": {},
   "outputs": [
    {
     "data": {
      "text/plain": [
       "4"
      ]
     },
     "execution_count": 3,
     "metadata": {},
     "output_type": "execute_result"
    }
   ],
   "source": [
    "# Addition\n",
    "2+2"
   ]
  },
  {
   "cell_type": "code",
   "execution_count": 4,
   "id": "438e8479",
   "metadata": {},
   "outputs": [
    {
     "data": {
      "text/plain": [
       "4.0"
      ]
     },
     "execution_count": 4,
     "metadata": {},
     "output_type": "execute_result"
    }
   ],
   "source": [
    "# converting minutes to hours  \n",
    "# minute = 240\n",
    "\n",
    "240/60 "
   ]
  },
  {
   "cell_type": "markdown",
   "id": "2a3bf4c8",
   "metadata": {},
   "source": [
    "Author : Gaurav Chaudhary"
   ]
  },
  {
   "cell_type": "code",
   "execution_count": null,
   "id": "6ba9af17",
   "metadata": {},
   "outputs": [],
   "source": []
  }
 ],
 "metadata": {
  "kernelspec": {
   "display_name": "Python 3 (ipykernel)",
   "language": "python",
   "name": "python3"
  },
  "language_info": {
   "codemirror_mode": {
    "name": "ipython",
    "version": 3
   },
   "file_extension": ".py",
   "mimetype": "text/x-python",
   "name": "python",
   "nbconvert_exporter": "python",
   "pygments_lexer": "ipython3",
   "version": "3.11.4"
  }
 },
 "nbformat": 4,
 "nbformat_minor": 5
}
