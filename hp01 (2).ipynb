{
 "cells": [
  {
   "cell_type": "code",
   "execution_count": 60,
   "id": "48cc62d5",
   "metadata": {},
   "outputs": [],
   "source": [
    "x=[] #Name\n",
    "y=[] #Status\n",
    "z=[] #Specialization\n",
    "def add_patient():\n",
    "    \n",
    "    if len(x)<5:\n",
    "        i=1\n",
    "        while i==1:\n",
    "            specialisation=input(\"specialisation : \")\n",
    "            z.append(specialisation)\n",
    "            \n",
    "            name=input(\"Name : \")\n",
    "            x.append(name)\n",
    "        \n",
    "            status=input(\"Urgency : \")\n",
    "            y.append(status)\n",
    "        \n",
    "            i+=1\n",
    "            options()\n",
    "    else:\n",
    "        print(\"Full\")\n",
    "        options()\n",
    "        "
   ]
  },
  {
   "cell_type": "code",
   "execution_count": 61,
   "id": "d0001e99",
   "metadata": {},
   "outputs": [],
   "source": [
    "def all_patients():\n",
    "    if len(x)==0:\n",
    "        print(\"EMPTY \")\n",
    "        options()\n",
    "    else:\n",
    "        for i in range(len(x)):\n",
    "            print(\"Specialisation -->\",z[i],\"patient -->\",x[i],\"Urgency status -->\",y[i])\n",
    "        options()\n",
    " "
   ]
  },
  {
   "cell_type": "code",
   "execution_count": 62,
   "id": "4610d0e2",
   "metadata": {},
   "outputs": [],
   "source": [
    "def get():\n",
    "    if len(x)==0:\n",
    "        print(\"No patients left\")\n",
    "    else:\n",
    "        print(\"Next patient :\",\"Specialisation -->\",z[0],\"Name -->\",x[0],\"status -->\", y[0])\n",
    "        x.remove(x[0])\n",
    "        y.remove(y[0])\n",
    "        z.remove(z[0])\n",
    "        \n",
    "    options()"
   ]
  },
  {
   "cell_type": "code",
   "execution_count": 63,
   "id": "dd4dd004",
   "metadata": {},
   "outputs": [],
   "source": [
    "def options():\n",
    "    option = int(input(\"1) Add\\n2) All\\n3) Get : \"))\n",
    "    if option==1:\n",
    "        add_patient()\n",
    "    elif option==2:\n",
    "        all_patients()\n",
    "    elif option==3:\n",
    "        get()"
   ]
  },
  {
   "cell_type": "code",
   "execution_count": null,
   "id": "60619dc6",
   "metadata": {},
   "outputs": [
    {
     "name": "stdout",
     "output_type": "stream",
     "text": [
      "1) Add\n",
      "2) All\n",
      "3) Get : 2\n",
      "EMPTY \n",
      "1) Add\n",
      "2) All\n",
      "3) Get : 1\n",
      "specialisation : 1\n",
      "Name : dummy 1\n",
      "Urgency : 0\n",
      "1) Add\n",
      "2) All\n",
      "3) Get : 2\n",
      "Specialisation --> 1 patient --> dummy 1 Urgency status --> 0\n",
      "1) Add\n",
      "2) All\n",
      "3) Get : 1\n",
      "specialisation : 2\n",
      "Name : dummy 3\n",
      "Urgency : 0\n",
      "1) Add\n",
      "2) All\n",
      "3) Get : 2\n",
      "Specialisation --> 1 patient --> dummy 1 Urgency status --> 0\n",
      "Specialisation --> 2 patient --> dummy 3 Urgency status --> 0\n"
     ]
    }
   ],
   "source": [
    "options()"
   ]
  },
  {
   "cell_type": "code",
   "execution_count": null,
   "id": "4f3e9197",
   "metadata": {},
   "outputs": [],
   "source": []
  },
  {
   "cell_type": "code",
   "execution_count": null,
   "id": "fffadeff",
   "metadata": {},
   "outputs": [],
   "source": []
  }
 ],
 "metadata": {
  "kernelspec": {
   "display_name": "Python 3 (ipykernel)",
   "language": "python",
   "name": "python3"
  },
  "language_info": {
   "codemirror_mode": {
    "name": "ipython",
    "version": 3
   },
   "file_extension": ".py",
   "mimetype": "text/x-python",
   "name": "python",
   "nbconvert_exporter": "python",
   "pygments_lexer": "ipython3",
   "version": "3.11.4"
  }
 },
 "nbformat": 4,
 "nbformat_minor": 5
}
